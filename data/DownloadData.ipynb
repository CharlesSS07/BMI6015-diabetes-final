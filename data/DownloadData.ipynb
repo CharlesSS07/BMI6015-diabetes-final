{
 "cells": [
  {
   "cell_type": "code",
   "execution_count": 3,
   "id": "a88ea304-ab26-4686-89b3-671ab8e090ed",
   "metadata": {},
   "outputs": [
    {
     "name": "stdout",
     "output_type": "stream",
     "text": [
      "--2024-11-29 11:47:47--  https://archive.ics.uci.edu/static/public/296/diabetes+130-us+hospitals+for+years+1999-2008.zip\n",
      "Resolving archive.ics.uci.edu (archive.ics.uci.edu)... 128.195.10.252\n",
      "Connecting to archive.ics.uci.edu (archive.ics.uci.edu)|128.195.10.252|:443... connected.\n",
      "HTTP request sent, awaiting response... 200 OK\n",
      "Length: unspecified\n",
      "Saving to: ‘diabetes+130-us+hospitals+for+years+1999-2008.zip’\n",
      "\n",
      "diabetes+130-us+hos     [ <=>                ]   3.02M  --.-KB/s    in 0.1s    \n",
      "\n",
      "2024-11-29 11:47:48 (24.8 MB/s) - ‘diabetes+130-us+hospitals+for+years+1999-2008.zip’ saved [3170254]\n",
      "\n"
     ]
    }
   ],
   "source": [
    "!wget https://archive.ics.uci.edu/static/public/296/diabetes+130-us+hospitals+for+years+1999-2008.zip"
   ]
  },
  {
   "cell_type": "code",
   "execution_count": 4,
   "id": "1806d6c3-53f3-49b5-b6a4-92589797a0b8",
   "metadata": {},
   "outputs": [
    {
     "name": "stdout",
     "output_type": "stream",
     "text": [
      "Archive:  diabetes+130-us+hospitals+for+years+1999-2008.zip\n",
      "  inflating: diabetic_data.csv       \n",
      "  inflating: IDS_mapping.csv         \n"
     ]
    }
   ],
   "source": [
    "!unzip diabetes+130-us+hospitals+for+years+1999-2008.zip"
   ]
  },
  {
   "cell_type": "code",
   "execution_count": 1,
   "id": "09517c2a-fcae-4ddb-ab8a-d1f7f9e0ca8c",
   "metadata": {},
   "outputs": [],
   "source": [
    "!rm diabetes+130-us+hospitals+for+years+1999-2008.zip"
   ]
  },
  {
   "cell_type": "code",
   "execution_count": null,
   "id": "2f28bfe3-0fd6-4be0-86c2-456b3ca30d8d",
   "metadata": {},
   "outputs": [],
   "source": []
  }
 ],
 "metadata": {
  "kernelspec": {
   "display_name": "Python 3 (ipykernel)",
   "language": "python",
   "name": "python3"
  },
  "language_info": {
   "codemirror_mode": {
    "name": "ipython",
    "version": 3
   },
   "file_extension": ".py",
   "mimetype": "text/x-python",
   "name": "python",
   "nbconvert_exporter": "python",
   "pygments_lexer": "ipython3",
   "version": "3.8.5"
  }
 },
 "nbformat": 4,
 "nbformat_minor": 5
}
