{
 "cells": [
  {
   "cell_type": "code",
   "execution_count": 1,
   "id": "96844e9e-6d91-47a8-977e-1964bde46dca",
   "metadata": {},
   "outputs": [],
   "source": [
    "import pandas as pd\n",
    "import numpy as np"
   ]
  },
  {
   "cell_type": "code",
   "execution_count": 2,
   "id": "f1543a0f-d169-40e6-9d93-733a16272228",
   "metadata": {},
   "outputs": [],
   "source": [
    "diabetic_data = pd.read_csv('diabetic_data.csv')"
   ]
  },
  {
   "cell_type": "code",
   "execution_count": 3,
   "id": "9cea8188-2062-46a8-ac6d-04ec8068a60d",
   "metadata": {},
   "outputs": [],
   "source": [
    "N = len(diabetic_data)"
   ]
  },
  {
   "cell_type": "code",
   "execution_count": 4,
   "id": "e36e9bde-5a93-45e9-9155-a1c29498b77d",
   "metadata": {},
   "outputs": [],
   "source": [
    "parts = [0.8, 0.15, 0.05] # train, test, validation\n",
    "assert sum(parts)==1"
   ]
  },
  {
   "cell_type": "code",
   "execution_count": 5,
   "id": "833d816d-bd64-4227-bee0-0f2081aa3ea8",
   "metadata": {},
   "outputs": [
    {
     "name": "stdout",
     "output_type": "stream",
     "text": [
      "mkdir: cannot create directory ‘partitions’: File exists\n"
     ]
    }
   ],
   "source": [
    "!mkdir partitions"
   ]
  },
  {
   "cell_type": "code",
   "execution_count": 6,
   "id": "6212cf54-90aa-48b6-8c1e-7010819d8372",
   "metadata": {},
   "outputs": [],
   "source": [
    "# partition across patients"
   ]
  },
  {
   "cell_type": "code",
   "execution_count": 7,
   "id": "662ba538-591c-472b-bc01-7b6fa8b980ae",
   "metadata": {},
   "outputs": [],
   "source": [
    "all_patients = list( str(i) + '\\n' for i in set(diabetic_data.patient_nbr))"
   ]
  },
  {
   "cell_type": "code",
   "execution_count": 8,
   "id": "2f1e26cc-5713-447a-857c-f11f457e9d16",
   "metadata": {},
   "outputs": [],
   "source": [
    "for i in range(7):\n",
    "    np.random.shuffle(all_patients)"
   ]
  },
  {
   "cell_type": "code",
   "execution_count": 9,
   "id": "d1c4265a-25b6-4ac8-8ad4-3da29d266a17",
   "metadata": {},
   "outputs": [
    {
     "data": {
      "text/plain": [
       "(0.799994407002433, 0.14999021225425768, 0.05001538074330938)"
      ]
     },
     "execution_count": 9,
     "metadata": {},
     "output_type": "execute_result"
    }
   ],
   "source": [
    "a = int(0.8*len(all_patients))\n",
    "b = a + int(0.15*len(all_patients))\n",
    "train, test, validation = all_patients[:a], all_patients[a:b], all_patients[b:]\n",
    "len(train)/len(all_patients), len(test)/len(all_patients), len(validation)/len(all_patients)"
   ]
  },
  {
   "cell_type": "code",
   "execution_count": 10,
   "id": "aa659c79-9ce5-4860-bd52-c8ad3206a184",
   "metadata": {},
   "outputs": [],
   "source": [
    "with open('partitions/train.txt', 'w') as f:\n",
    "    f.writelines(train)\n",
    "\n",
    "with open('partitions/test.txt', 'w') as f:\n",
    "    f.writelines(test)\n",
    "\n",
    "with open('partitions/val.txt', 'w') as f:\n",
    "    f.writelines(validation)"
   ]
  },
  {
   "cell_type": "code",
   "execution_count": 11,
   "id": "2f4ec2c4-dd64-4182-872f-ed1e33812840",
   "metadata": {},
   "outputs": [
    {
     "name": "stdout",
     "output_type": "stream",
     "text": [
      "57214\n"
     ]
    }
   ],
   "source": [
    "!cat partitions/train.txt | wc -l"
   ]
  },
  {
   "cell_type": "code",
   "execution_count": 12,
   "id": "0721cbb6-3148-4d12-9550-1134dd82446d",
   "metadata": {},
   "outputs": [
    {
     "data": {
      "text/plain": [
       "57214"
      ]
     },
     "execution_count": 12,
     "metadata": {},
     "output_type": "execute_result"
    }
   ],
   "source": [
    "len(train)"
   ]
  },
  {
   "cell_type": "code",
   "execution_count": 23,
   "id": "30901fe4-68a3-4468-b332-2cdda1ca8895",
   "metadata": {},
   "outputs": [
    {
     "data": {
      "text/plain": [
       "57214"
      ]
     },
     "execution_count": 23,
     "metadata": {},
     "output_type": "execute_result"
    }
   ],
   "source": [
    "train_txt = pd.read_csv('partitions/train.txt', names=['patient_nbr'])\n",
    "test_txt = pd.read_csv('partitions/test.txt', names=['patient_nbr'])\n",
    "val_txt = pd.read_csv('partitions/val.txt', names=['patient_nbr'])\n",
    "\n",
    "len(trian_txt)"
   ]
  },
  {
   "cell_type": "code",
   "execution_count": 37,
   "id": "8982f60b-ddd3-4972-8f33-4dde5e344fc6",
   "metadata": {},
   "outputs": [
    {
     "data": {
      "text/plain": [
       "True"
      ]
     },
     "execution_count": 37,
     "metadata": {},
     "output_type": "execute_result"
    }
   ],
   "source": [
    "# check partitions still add up to 100%\n",
    "(\n",
    "    len(diabetic_data[diabetic_data.patient_nbr.isin(trian_txt.patient_nbr)]) + len(diabetic_data[diabetic_data.patient_nbr.isin(test_txt.patient_nbr)]) + len(diabetic_data[diabetic_data.patient_nbr.isin(val_txt.patient_nbr)])\n",
    ") == len(diabetic_data)"
   ]
  },
  {
   "cell_type": "code",
   "execution_count": 40,
   "id": "11f23322-7521-43ac-862b-ce721960a8f3",
   "metadata": {},
   "outputs": [
    {
     "data": {
      "text/plain": [
       "(0.799825088929505, 0.14965705638425408, 0.05051785468624098)"
      ]
     },
     "execution_count": 40,
     "metadata": {},
     "output_type": "execute_result"
    }
   ],
   "source": [
    "(\n",
    "    len(diabetic_data[diabetic_data.patient_nbr.isin(trian_txt.patient_nbr)]) / len(diabetic_data),\n",
    "    len(diabetic_data[diabetic_data.patient_nbr.isin(test_txt.patient_nbr)]) / len(diabetic_data),\n",
    "    len(diabetic_data[diabetic_data.patient_nbr.isin(val_txt.patient_nbr)]) / len(diabetic_data)\n",
    ")"
   ]
  },
  {
   "cell_type": "code",
   "execution_count": null,
   "id": "a3acc9c5-6147-4f35-b776-27bab7f08e1f",
   "metadata": {},
   "outputs": [],
   "source": []
  }
 ],
 "metadata": {
  "kernelspec": {
   "display_name": "Python 3 (ipykernel)",
   "language": "python",
   "name": "python3"
  },
  "language_info": {
   "codemirror_mode": {
    "name": "ipython",
    "version": 3
   },
   "file_extension": ".py",
   "mimetype": "text/x-python",
   "name": "python",
   "nbconvert_exporter": "python",
   "pygments_lexer": "ipython3",
   "version": "3.8.5"
  }
 },
 "nbformat": 4,
 "nbformat_minor": 5
}
