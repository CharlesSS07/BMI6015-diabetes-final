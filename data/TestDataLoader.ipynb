{
 "cells": [
  {
   "cell_type": "code",
   "execution_count": 6,
   "id": "c5d1202e-fed5-49ba-90ce-2b00bec2c030",
   "metadata": {},
   "outputs": [],
   "source": [
    "import loader"
   ]
  },
  {
   "cell_type": "code",
   "execution_count": 10,
   "id": "b5c5322e-4675-4b2b-8f33-a796f63870d5",
   "metadata": {},
   "outputs": [
    {
     "data": {
      "text/plain": [
       "scipy.sparse._csr.csr_matrix"
      ]
     },
     "execution_count": 10,
     "metadata": {},
     "output_type": "execute_result"
    }
   ],
   "source": [
    "type(loader.one_hot_diabetic_data)"
   ]
  },
  {
   "cell_type": "code",
   "execution_count": 35,
   "id": "4ff9c752-8959-4e02-953c-1b29d81b3f32",
   "metadata": {},
   "outputs": [],
   "source": [
    "a = loader.train[2]"
   ]
  },
  {
   "cell_type": "code",
   "execution_count": 43,
   "id": "627876c8-642b-4c44-96dd-f1d69e37f6a1",
   "metadata": {},
   "outputs": [
    {
     "data": {
      "text/plain": [
       "(1, 176120)"
      ]
     },
     "execution_count": 43,
     "metadata": {},
     "output_type": "execute_result"
    }
   ],
   "source": [
    "a.toarray().shape"
   ]
  },
  {
   "cell_type": "code",
   "execution_count": null,
   "id": "1351dbe8-c659-4f8f-a291-30437d14e7d0",
   "metadata": {},
   "outputs": [],
   "source": []
  }
 ],
 "metadata": {
  "kernelspec": {
   "display_name": "Python 3 (ipykernel)",
   "language": "python",
   "name": "python3"
  },
  "language_info": {
   "codemirror_mode": {
    "name": "ipython",
    "version": 3
   },
   "file_extension": ".py",
   "mimetype": "text/x-python",
   "name": "python",
   "nbconvert_exporter": "python",
   "pygments_lexer": "ipython3",
   "version": "3.8.5"
  }
 },
 "nbformat": 4,
 "nbformat_minor": 5
}
