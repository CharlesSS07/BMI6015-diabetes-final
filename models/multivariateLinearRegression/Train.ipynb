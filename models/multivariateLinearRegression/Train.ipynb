{
 "cells": [
  {
   "cell_type": "code",
   "execution_count": 1,
   "id": "da176bb1-dd06-4687-a398-f0c6866d38f3",
   "metadata": {},
   "outputs": [],
   "source": [
    "import sys\n",
    "sys.path.append('../../')"
   ]
  },
  {
   "cell_type": "code",
   "execution_count": 3,
   "id": "362b9b46-0154-4fa4-9a47-62db48077507",
   "metadata": {},
   "outputs": [],
   "source": [
    "import data.loader"
   ]
  },
  {
   "cell_type": "code",
   "execution_count": 2,
   "id": "6cebae78-1a10-4707-a2ce-5c1b4964bfef",
   "metadata": {},
   "outputs": [],
   "source": [
    "\n",
    "from sklearn.linear_model import LinearRegression\n",
    "from sklearn.metrics import mean_squared_error, r2_score"
   ]
  },
  {
   "cell_type": "code",
   "execution_count": 4,
   "id": "e5344df5-b6de-4da3-9910-d6c62acdcdae",
   "metadata": {},
   "outputs": [
    {
     "ename": "AttributeError",
     "evalue": "module 'data.loader' has no attribute 'y_train'",
     "output_type": "error",
     "traceback": [
      "\u001b[0;31m---------------------------------------------------------------------------\u001b[0m",
      "\u001b[0;31mAttributeError\u001b[0m                            Traceback (most recent call last)",
      "Cell \u001b[0;32mIn[4], line 2\u001b[0m\n\u001b[1;32m      1\u001b[0m model \u001b[38;5;241m=\u001b[39m LinearRegression()\n\u001b[0;32m----> 2\u001b[0m model\u001b[38;5;241m.\u001b[39mfit(data\u001b[38;5;241m.\u001b[39mloader\u001b[38;5;241m.\u001b[39mtrain, \u001b[43mdata\u001b[49m\u001b[38;5;241;43m.\u001b[39;49m\u001b[43mloader\u001b[49m\u001b[38;5;241;43m.\u001b[39;49m\u001b[43my_train\u001b[49m)\n\u001b[1;32m      4\u001b[0m \u001b[38;5;66;03m# Evaluate the model\u001b[39;00m\n\u001b[1;32m      5\u001b[0m y_val_pred \u001b[38;5;241m=\u001b[39m model\u001b[38;5;241m.\u001b[39mpredict(data\u001b[38;5;241m.\u001b[39mloader\u001b[38;5;241m.\u001b[39mval)\n",
      "\u001b[0;31mAttributeError\u001b[0m: module 'data.loader' has no attribute 'y_train'"
     ]
    }
   ],
   "source": [
    "model = LinearRegression()\n",
    "model.fit(data.loader.train, data.loader.y_train)\n",
    "\n",
    "# Evaluate the model\n",
    "y_val_pred = model.predict(data.loader.val)\n",
    "y_test_pred = model.predict(data.loader.test)"
   ]
  },
  {
   "cell_type": "code",
   "execution_count": null,
   "id": "66b4f898-1fcc-4df7-a89f-728be8aa8aad",
   "metadata": {},
   "outputs": [],
   "source": []
  }
 ],
 "metadata": {
  "kernelspec": {
   "display_name": "Python 3 (ipykernel)",
   "language": "python",
   "name": "python3"
  },
  "language_info": {
   "codemirror_mode": {
    "name": "ipython",
    "version": 3
   },
   "file_extension": ".py",
   "mimetype": "text/x-python",
   "name": "python",
   "nbconvert_exporter": "python",
   "pygments_lexer": "ipython3",
   "version": "3.8.5"
  }
 },
 "nbformat": 4,
 "nbformat_minor": 5
}
