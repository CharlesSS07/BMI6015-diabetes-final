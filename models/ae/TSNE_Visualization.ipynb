{
 "cells": [
  {
   "cell_type": "code",
   "execution_count": 1,
   "id": "0f27c0e9-daec-48d8-af5c-a7703c1a1218",
   "metadata": {},
   "outputs": [],
   "source": [
    "import sys\n",
    "sys.path.append('../../')"
   ]
  },
  {
   "cell_type": "code",
   "execution_count": 2,
   "id": "e462d106-5b5f-4dab-819a-744cc0adb92f",
   "metadata": {},
   "outputs": [],
   "source": [
    "import data.loader\n",
    "(train, train_y), (test, test_y), (_, _), one_hot_encoder_X, one_hot_encoder_y = data.loader.encode_and_partition(\n",
    "    data.loader.diabetic_data_raw\n",
    ")"
   ]
  },
  {
   "cell_type": "code",
   "execution_count": 3,
   "id": "942d6701-0892-4553-8015-9fd458886299",
   "metadata": {},
   "outputs": [],
   "source": [
    "import wandb\n",
    "import os\n",
    "\n",
    "# \"ae_encoder_run_path\": \"charles-s-strauss-n-a/ae/runs/l5uu22fm\",\n",
    "ae_encoder_run_path = \"charles-s-strauss-n-a/ae/runs/ugoaq6gb\""
   ]
  },
  {
   "cell_type": "code",
   "execution_count": 5,
   "id": "69be6ab0-a0d4-48d4-8e15-556b08c4c506",
   "metadata": {},
   "outputs": [
    {
     "data": {
      "text/plain": [
       "<module '/scratch/u1319464/BMI6015-diabetes-final/models/ae/files/model.py'>"
      ]
     },
     "execution_count": 5,
     "metadata": {},
     "output_type": "execute_result"
    }
   ],
   "source": [
    "aeweights = wandb.restore(\n",
    "    'autoencoder.pth',\n",
    "    run_path=ae_encoder_run_path\n",
    ")\n",
    "\n",
    "import importlib.util\n",
    "\n",
    "with wandb.restore('files/model.py',\n",
    "    run_path=ae_encoder_run_path) as modelpy:\n",
    "    \n",
    "    spec = importlib.util.spec_from_loader(modelpy.name, loader=None)\n",
    "    aemodel = importlib.util.module_from_spec(spec)\n",
    "    exec(modelpy.read(), aemodel.__dict__)\n",
    "\n",
    "aemodel"
   ]
  },
  {
   "cell_type": "code",
   "execution_count": 12,
   "id": "5c4550f8-be75-4480-9dd9-eee4a00d1964",
   "metadata": {},
   "outputs": [
    {
     "data": {
      "text/plain": [
       "<All keys matched successfully>"
      ]
     },
     "execution_count": 12,
     "metadata": {},
     "output_type": "execute_result"
    }
   ],
   "source": [
    "input_dim = train.shape[1]\n",
    "ae = aemodel.AutoEncoder(input_dim=input_dim, hidden_dim=128//4, latent_dim=64//4)\n",
    "ae.load_state_dict(torch.load(aeweights.name))"
   ]
  },
  {
   "cell_type": "code",
   "execution_count": 8,
   "id": "91373e5f-def7-49f0-9ca6-e027f6bc1814",
   "metadata": {},
   "outputs": [],
   "source": [
    "import torch\n",
    "import numpy as np\n",
    "from torchvision import transforms\n",
    "from torch.utils.data import TensorDataset, DataLoader\n",
    "\n",
    "batch_size = 64\n",
    "\n",
    "transform = transforms.Compose([transforms.ToTensor()])\n",
    "\n",
    "train_data = torch.from_numpy(train.toarray().astype(np.float32))\n",
    "train_dataset = TensorDataset(train_data)\n",
    "train_loader = DataLoader(train_dataset, batch_size=batch_size, shuffle=False)\n",
    "\n",
    "test_data = torch.from_numpy(test.toarray().astype(np.float32))\n",
    "test_dataset = TensorDataset(test_data)\n",
    "test_loader = DataLoader(test_dataset, batch_size=batch_size, shuffle=False)\n"
   ]
  },
  {
   "cell_type": "code",
   "execution_count": null,
   "id": "2126e48f-9a39-41d7-b6b3-f09fd3b9d444",
   "metadata": {},
   "outputs": [
    {
     "name": "stderr",
     "output_type": "stream",
     "text": [
      "/tmp/ipykernel_3104455/4112939000.py:7: UserWarning: To copy construct from a tensor, it is recommended to use sourceTensor.clone().detach() or sourceTensor.clone().detach().requires_grad_(True), rather than torch.tensor(sourceTensor).\n",
      "  latent_representations = ae.encoder(torch.tensor(train_data)).numpy()\n"
     ]
    }
   ],
   "source": [
    "from sklearn.manifold import TSNE\n",
    "import matplotlib.pyplot as plt\n",
    "\n",
    "ae.eval()\n",
    "with torch.no_grad():\n",
    "    latent_representations = ae.encoder(torch.tensor(train_data)).numpy()\n",
    "\n",
    "tsne = TSNE(n_components=2, random_state=42, perplexity=30)\n",
    "latent_2d = tsne.fit_transform(latent_representations)\n",
    "\n"
   ]
  },
  {
   "cell_type": "code",
   "execution_count": null,
   "id": "6b0f3541-92c9-47bf-b2bc-d386a27f5ac3",
   "metadata": {},
   "outputs": [],
   "source": [
    "\n",
    "# Assuming 'train_labels' contains your labels\n",
    "plt.figure(figsize=(10, 8))\n",
    "scatter = plt.scatter(latent_2d[:, 0], latent_2d[:, 1], c=train_labels, cmap='viridis', s=5)\n",
    "plt.colorbar(scatter, label='Labels')\n",
    "plt.title(\"t-SNE Visualization of Latent Representations\")\n",
    "plt.xlabel(\"t-SNE Dimension 1\")\n",
    "plt.ylabel(\"t-SNE Dimension 2\")\n",
    "plt.show()"
   ]
  }
 ],
 "metadata": {
  "kernelspec": {
   "display_name": "Python 3 (ipykernel)",
   "language": "python",
   "name": "python3"
  },
  "language_info": {
   "codemirror_mode": {
    "name": "ipython",
    "version": 3
   },
   "file_extension": ".py",
   "mimetype": "text/x-python",
   "name": "python",
   "nbconvert_exporter": "python",
   "pygments_lexer": "ipython3",
   "version": "3.8.5"
  }
 },
 "nbformat": 4,
 "nbformat_minor": 5
}
